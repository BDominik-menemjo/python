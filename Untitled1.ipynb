{
 "cells": [
  {
   "cell_type": "code",
   "execution_count": 15,
   "id": "2afb8d0d",
   "metadata": {},
   "outputs": [
    {
     "name": "stdout",
     "output_type": "stream",
     "text": [
      "Ad meg az első számot!100\n",
      "Add meg a második számot!1\n",
      "A maradék: 0\n"
     ]
    }
   ],
   "source": [
    "#Határoz meg egy termézetes számnak egy másik természetes számmal való osztásakor keletkező maradékot,\n",
    "#úgy, hogy a szorzás és osztás műveleteit ne használjuk\n",
    "\n",
    "#Be: A, B\n",
    "#Ki: Maradék\n",
    "#Előfeltétel: A>=0; B>0\n",
    "#Utófeltétel: Maradék = A mod(%) B\n",
    "#Maradék=A\n",
    "#Amíg maradék>B addig Maradék=Maradék-B\n",
    "#\n",
    "\n",
    "a=int(input(\"Ad meg az első számot!\"))\n",
    "\n",
    "while a<0:\n",
    "    print(\"A szám nem lehet negatív!\")\n",
    "    a=int(input(\"Add meg az első számot!\"))\n",
    "    \n",
    "b=int(input(\"Add meg a második számot!\"))\n",
    "    \n",
    "while b<=0:    \n",
    "    b=int(input(\"A szám legyen nagyobb mint 0!\"))\n",
    "    b=int(input(\"Add meg az első számot!\"))\n",
    "\n",
    "maradek=a\n",
    "while maradek>=b:\n",
    "    maradek=maradek-b\n",
    "    \n",
    "print(\"A maradék: %d\" % maradek)"
   ]
  },
  {
   "cell_type": "code",
   "execution_count": null,
   "id": "7e9bb398",
   "metadata": {},
   "outputs": [],
   "source": []
  }
 ],
 "metadata": {
  "kernelspec": {
   "display_name": "Python 3 (ipykernel)",
   "language": "python",
   "name": "python3"
  },
  "language_info": {
   "codemirror_mode": {
    "name": "ipython",
    "version": 3
   },
   "file_extension": ".py",
   "mimetype": "text/x-python",
   "name": "python",
   "nbconvert_exporter": "python",
   "pygments_lexer": "ipython3",
   "version": "3.9.7"
  }
 },
 "nbformat": 4,
 "nbformat_minor": 5
}

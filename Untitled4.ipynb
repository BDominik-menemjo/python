{
 "cells": [
  {
   "cell_type": "code",
   "execution_count": 6,
   "id": "1d9b5481",
   "metadata": {},
   "outputs": [
    {
     "name": "stdout",
     "output_type": "stream",
     "text": [
      "36\n",
      "Tippelj egy számot5\n",
      "A szám nagyobb mint a tipped!\n",
      "Tippelj újra!6\n",
      "A szám nagyobb mint a tipped!\n",
      "Tippelj újra!42\n",
      "A szám kisebb mint a tipped\n",
      "Tippelj újra!36\n",
      "Eltaláltad!\n"
     ]
    }
   ],
   "source": [
    "import random\n",
    "\n",
    "x=random.randint(1,100)\n",
    "\n",
    "guess=int(input(\"Tippelj egy számot\"))\n",
    "\n",
    "while x!=guess:\n",
    "    if x<guess:\n",
    "        print(\"A szám kisebb mint a tipped\")\n",
    "        guess=int(input(\"Tippelj újra!\"))\n",
    "    else:\n",
    "        print(\"A szám nagyobb mint a tipped!\")\n",
    "        guess=int(input(\"Tippelj újra!\"))\n",
    "print(\"Eltaláltad!\")"
   ]
  },
  {
   "cell_type": "code",
   "execution_count": null,
   "id": "9b417eda",
   "metadata": {},
   "outputs": [],
   "source": []
  }
 ],
 "metadata": {
  "kernelspec": {
   "display_name": "Python 3 (ipykernel)",
   "language": "python",
   "name": "python3"
  },
  "language_info": {
   "codemirror_mode": {
    "name": "ipython",
    "version": 3
   },
   "file_extension": ".py",
   "mimetype": "text/x-python",
   "name": "python",
   "nbconvert_exporter": "python",
   "pygments_lexer": "ipython3",
   "version": "3.9.7"
  }
 },
 "nbformat": 4,
 "nbformat_minor": 5
}

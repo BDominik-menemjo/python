{
 "cells": [
  {
   "cell_type": "code",
   "execution_count": 6,
   "id": "2a7c7b87",
   "metadata": {},
   "outputs": [
    {
     "name": "stdout",
     "output_type": "stream",
     "text": [
      "Add meg a helyes jelszót!5\n",
      "Helytelen jelszó! Add meg újra!alma\n",
      "Gratulálok, be tudtál lépni!\n"
     ]
    }
   ],
   "source": [
    "jelszo=input(\"Add meg a helyes jelszót!\")\n",
    "helyes=[\"alma\", \"korte\", \"szilva\"]\n",
    "while jelszo not in helyes:\n",
    "    jelszo=input(\"Helytelen jelszó! Add meg újra!\")\n",
    "print(\"Gratulálok, be tudtál lépni!\")"
   ]
  },
  {
   "cell_type": "code",
   "execution_count": 9,
   "id": "a2496038",
   "metadata": {},
   "outputs": [
    {
     "name": "stdout",
     "output_type": "stream",
     "text": [
      "1,4,7,10,13,16,19,22,25,28,31,34,37,40,43,46,49\n",
      "\n",
      "49,46,43,40,37,34,31,28,25,22,19,16,13,10,7,4,1"
     ]
    }
   ],
   "source": [
    "for i in range(1,50,3):\n",
    "    if i<49:\n",
    "        print(\"%d\" %i, end=\",\")\n",
    "    else:\n",
    "        print(\"%d\" %i, end=\"\" )\n",
    "print(\"\\n\")\n",
    "for j in range(49,0,-3):\n",
    "    if j>1:\n",
    "        print(\"%d\" %j, end=\",\")\n",
    "    else:\n",
    "        print(\"%d\" %j, end=\"\" )"
   ]
  },
  {
   "cell_type": "code",
   "execution_count": 15,
   "id": "2a1e6413",
   "metadata": {},
   "outputs": [
    {
     "name": "stdout",
     "output_type": "stream",
     "text": [
      "Adj meg egy számot!5\n",
      "Adj meg egy számot: 5\n",
      "Adj meg egy számot: 5\n",
      "Adj meg egy számot: 5\n",
      "Adj meg egy számot: 5\n",
      "Adj meg egy számot: 5\n",
      "Adj meg egy számot: 5\n",
      "Adj meg egy számot: 5\n",
      "Adj meg egy számot: 5\n",
      "45\n",
      "5\n",
      "a beolvasott számok számtani átlaga: 5.00\n",
      "A legkisebb beolvasott szám: 4\n"
     ]
    }
   ],
   "source": [
    "szam=int(input(\"Adj meg egy számot!\"))\n",
    "eredmeny=0\n",
    "n=1\n",
    "while n<9:\n",
    "    eredmeny+=szam\n",
    "    n+=1\n",
    "    if szam<minimum:\n",
    "        minimum=szam\n",
    "    szam=int(input(\"Adj meg egy számot: \"))\n",
    "eredmeny+=szam\n",
    "print(eredmeny)\n",
    "print(szam)\n",
    "print(\"a beolvasott számok számtani átlaga: %.2f\" %(eredmeny/n))\n",
    "print(\"A legkisebb beolvasott szám: %d\" %minimum)"
   ]
  },
  {
   "cell_type": "code",
   "execution_count": 18,
   "id": "0825b940",
   "metadata": {},
   "outputs": [
    {
     "name": "stdout",
     "output_type": "stream",
     "text": [
      "[40, 32, 47, 20, 41, 37, 32, 23, 36, 41, 46, 19, 31, 25, 41, 46, 14, 49, 32, 46, 41, 28, 38, 10, 40, 41, 21, 18, 35, 49, 27, 18, 10, 24, 12, 50, 33, 33, 40, 37, 39, 13, 49, 21, 46, 45, 48, 33, 36, 10, 47, 32, 47, 47, 43, 29, 28, 17, 23, 42, 49, 31, 32, 39, 43, 36, 49, 49, 21, 40, 29, 15, 12, 29, 30, 34, 26, 31, 20, 35, 17, 46, 29, 12, 30, 39, 46, 46, 45, 44, 33, 15, 18, 30, 14, 18, 39, 32, 20, 41]\n",
      "[72, 67, 78, 55, 77, 65, 56, 87, 63, 78, 69, 48, 81, 39, 84, 45, 34, 62, 66, 77, 52, 70, 91, 81, 46, 79, 94, 72, 45, 65, 80, 71, 79, 98, 61, 44, 41, 64, 57, 55, 63, 41, 69, 92, 89, 48, 48, 32, 71, 61]\n"
     ]
    }
   ],
   "source": [
    "import random\n",
    "\n",
    "rand_tomb=[random.randint(10,50)]\n",
    "for i in range(1,100):\n",
    "    rand_tomb.append(random.randint(10,50))\n",
    "\n",
    "uj_tomb=[]\n",
    "for j in range(0,50):\n",
    "    uj_tomb.append(rand_tomb[2*j]+rand_tomb[2*j+1])\n",
    "print(rand_tomb)\n",
    "print(uj_tomb)"
   ]
  },
  {
   "cell_type": "code",
   "execution_count": null,
   "id": "71adb739",
   "metadata": {},
   "outputs": [],
   "source": []
  }
 ],
 "metadata": {
  "kernelspec": {
   "display_name": "Python 3 (ipykernel)",
   "language": "python",
   "name": "python3"
  },
  "language_info": {
   "codemirror_mode": {
    "name": "ipython",
    "version": 3
   },
   "file_extension": ".py",
   "mimetype": "text/x-python",
   "name": "python",
   "nbconvert_exporter": "python",
   "pygments_lexer": "ipython3",
   "version": "3.9.7"
  }
 },
 "nbformat": 4,
 "nbformat_minor": 5
}

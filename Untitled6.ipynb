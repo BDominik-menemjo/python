{
 "cells": [
  {
   "cell_type": "code",
   "execution_count": 1,
   "id": "f50afb99",
   "metadata": {},
   "outputs": [
    {
     "name": "stdout",
     "output_type": "stream",
     "text": [
      "[9, 5, 3, 5, 6, 9, 7, 2, 8, 3, 10, 2, 4, 1, 8, 1, 9, 10, 5, 9, 2, 10, 4, 6, 9, 8, 3, 1, 1, 6, 3, 1, 9, 5, 5, 8, 10, 3, 10, 3, 7, 10, 1, 8, 10, 7, 8, 6, 5, 9, 9, 6, 2, 10, 2, 6, 3, 2, 8, 6, 2, 7, 5, 10, 4, 5, 3, 2, 4, 1, 10, 3, 7, 6, 3, 7, 2, 8, 9, 2, 7, 9, 3, 7, 4, 10, 5, 7, 8, 2, 8, 5, 3, 10, 4, 4, 9, 8, 5, 9]\n",
      "A(z)  1 szám 7 alkalommal zerepel a tömbben!\n",
      "A(z)  2 szám 11 alkalommal zerepel a tömbben!\n",
      "A(z)  3 szám 12 alkalommal zerepel a tömbben!\n",
      "A(z)  4 szám 7 alkalommal zerepel a tömbben!\n",
      "A(z)  5 szám 11 alkalommal zerepel a tömbben!\n",
      "A(z)  6 szám 8 alkalommal zerepel a tömbben!\n",
      "A(z)  7 szám 9 alkalommal zerepel a tömbben!\n",
      "A(z)  8 szám 11 alkalommal zerepel a tömbben!\n",
      "A(z)  9 szám 12 alkalommal zerepel a tömbben!\n",
      "A(z)  10 szám 12 alkalommal zerepel a tömbben!\n"
     ]
    }
   ],
   "source": [
    "import random\n",
    "\n",
    "tomb=[random.randint(1,10)]\n",
    "\n",
    "for i in range(1,100):\n",
    "    tomb.append(random.randint(1, 10))\n",
    "\n",
    "print(tomb)\n",
    "\n",
    "szamok=[0,0,0,0,0,0,0,0,0,0]\n",
    "\n",
    "for i in tomb:\n",
    "    for j in range(0,10):\n",
    "        if i==(j+1):\n",
    "            szamok[j]+=1\n",
    "for k in range(0,10):\n",
    "    print(\"A(z)  %d szám %d alkalommal zerepel a tömbben!\" %((k+1), szamok[k]))"
   ]
  },
  {
   "cell_type": "code",
   "execution_count": 14,
   "id": "c98f8fbe",
   "metadata": {},
   "outputs": [
    {
     "name": "stdout",
     "output_type": "stream",
     "text": [
      "[30, 48, 25, 11, 32, 28, 25, 39, 13, 34, 13, 48, 45, 45, 17, 44, 10, 36, 48, 28, 37, 39, 25, 30, 39, 22, 17, 14, 33, 49, 23, 20, 29, 37, 39, 29, 26, 13, 14, 46, 26, 11, 18, 36, 30, 18, 33, 33, 18, 16, 50, 27, 23, 26, 47, 48, 17, 16, 36, 32, 41, 50, 46, 15, 30, 34, 19, 13, 28, 44, 50, 30, 24, 48, 18, 40, 15, 16, 35, 29, 10, 36, 25, 46, 13, 21, 40, 32, 48, 42, 21, 21, 39, 37, 41, 31, 47, 36, 33, 34]\n",
      "A 11 számjegyből 2 találat volt!\n",
      "A 22 számjegyből 1 találat volt!\n",
      "A 33 számjegyből 4 találat volt!\n",
      "A 44 számjegyből 2 találat volt!\n"
     ]
    }
   ],
   "source": [
    "import random\n",
    "szamlalo=[0,0,0,0]\n",
    "tomb=[random.randint(10,50)]\n",
    "for i in range(1,100):\n",
    "    tomb.append(random.randint(10,50))\n",
    "print(tomb)\n",
    "\n",
    "for i in range(1,100):\n",
    "    for j in range(0,4):\n",
    "        if tomb[i]==(j+1)*11:\n",
    "            szamlalo[j]+=1\n",
    "            tomb[i]=2*(j+1)\n",
    "            \n",
    "for k in range(0,4):\n",
    "    print(\"A %d számjegyből %d találat volt!\" %((k+1)*11, szamlalo[k]))\n",
    "    "
   ]
  },
  {
   "cell_type": "code",
   "execution_count": 14,
   "id": "49db416c",
   "metadata": {},
   "outputs": [
    {
     "name": "stdout",
     "output_type": "stream",
     "text": [
      "[34, 46, 25, 40, 22, 16, 35, 28, 13, 20, 23, 40, 25, 16, 14, 17, 42, 30, 19, 16, 34, 13, 30, 35, 32, 19, 22, 34, 27, 24, 42, 15, 44, 50, 29, 50, 17, 46, 44, 39, 30, 15, 34, 29, 16, 11, 40, 13, 33, 18, 29, 43, 31, 31, 31, 12, 48, 17, 33, 28, 40, 18, 36, 37, 24, 40, 34, 22, 22, 37, 10, 47, 33, 22, 20, 40, 21, 44, 22, 39, 35, 23, 26, 15, 35, 15, 44, 40, 24, 45, 22, 40, 36, 38, 27, 33, 35, 42, 33, 11]\n"
     ]
    }
   ],
   "source": [
    "import random\n",
    "szamlalo=[0,0,0,0,0,0,0,0,0,0,0,0,0]\n",
    "tomb=[random.randint(10,50)]\n",
    "for i in range(1,100):\n",
    "    tomb.append(random.randint(10,50))\n",
    "print(tomb)\n",
    "\n",
    "result=[]\n",
    "for i in tomb:\n",
    "    str1=str(i)\n",
    "    #print(str1)\n",
    "    for j in range(0,14):\n",
    "        for k in str1:\n",
    "            result.append(int(k))\n",
    "        osszeg=result[0]+result[1]\n",
    "        result.clear()\n",
    "        if osszeg==(j+1):\n",
    "            szamlalo[j]+=1\n",
    "\n",
    "for m in range(0,13):\n",
    "    print(\"Ha a számjegyek összege %d abból %d találat volt!\" %((m+1), szamlalo[m]))"
   ]
  },
  {
   "cell_type": "code",
   "execution_count": 1,
   "id": "39c92169",
   "metadata": {},
   "outputs": [
    {
     "name": "stdout",
     "output_type": "stream",
     "text": [
      "[45, 44, 29, 39, 21, 36, 24, 40, 23, 13, 35, 44, 19, 44, 48, 38, 32, 28, 48, 27, 45, 26, 23, 44, 21, 23, 26, 41, 41, 47, 49, 36, 50, 12, 44, 22, 26, 49, 41, 30, 24, 30, 50, 45, 15, 17, 44, 42, 15, 39, 22, 15, 23, 24, 46, 38, 45, 11, 14, 30, 40, 42, 11, 15, 16, 49, 14, 47, 23, 30, 50, 19, 12, 10, 10, 20, 29, 48, 19, 12, 13, 41, 19, 42, 46, 26, 49, 22, 22, 38, 18, 50, 27, 38, 28, 29, 45, 28, 43, 32]\n",
      "Az 5-el végződő számok darabszáma: 10\n",
      "A 7-el végződő számok darabszáma: 10\n"
     ]
    }
   ],
   "source": [
    "import random\n",
    "\n",
    "szamlalo=[0,0]\n",
    "\n",
    "tomb=[random.randint(10,50)]\n",
    "for i in range(1,100):\n",
    "    tomb.append(random.randint(10,50))\n",
    "\n",
    "print(tomb)\n",
    "result=[]\n",
    "for i in tomb:\n",
    "    str1=str(i)\n",
    "    for k in str1:\n",
    "        result.append(k)\n",
    "    if result[1]=='5':\n",
    "        szamlalo[0]+=1\n",
    "    elif result[1]=='7':\n",
    "        szamlalo[1]+=1\n",
    "    result.clear()\n",
    "    \n",
    "print(\"Az 5-el végződő számok darabszáma: %d\" %szamlalo[0])\n",
    "print(\"A 7-el végződő számok darabszáma: %d\" %szamlalo[0])"
   ]
  },
  {
   "cell_type": "code",
   "execution_count": null,
   "id": "ecb35610",
   "metadata": {},
   "outputs": [],
   "source": []
  }
 ],
 "metadata": {
  "kernelspec": {
   "display_name": "Python 3 (ipykernel)",
   "language": "python",
   "name": "python3"
  },
  "language_info": {
   "codemirror_mode": {
    "name": "ipython",
    "version": 3
   },
   "file_extension": ".py",
   "mimetype": "text/x-python",
   "name": "python",
   "nbconvert_exporter": "python",
   "pygments_lexer": "ipython3",
   "version": "3.9.7"
  }
 },
 "nbformat": 4,
 "nbformat_minor": 5
}

{
 "cells": [
  {
   "cell_type": "code",
   "execution_count": 8,
   "id": "4e5295f1",
   "metadata": {},
   "outputs": [
    {
     "name": "stdout",
     "output_type": "stream",
     "text": [
      "mennykű csapjon beléd\n"
     ]
    },
    {
     "ename": "KeyboardInterrupt",
     "evalue": "Interrupted by user",
     "output_type": "error",
     "traceback": [
      "\u001b[1;31m---------------------------------------------------------------------------\u001b[0m",
      "\u001b[1;31mKeyboardInterrupt\u001b[0m                         Traceback (most recent call last)",
      "\u001b[1;32m~\\AppData\\Local\\Temp/ipykernel_12764/2906149774.py\u001b[0m in \u001b[0;36m<module>\u001b[1;34m\u001b[0m\n\u001b[0;32m      1\u001b[0m \u001b[0mprint\u001b[0m\u001b[1;33m(\u001b[0m\u001b[1;34m\"mennykű csapjon beléd\"\u001b[0m\u001b[1;33m)\u001b[0m\u001b[1;33m\u001b[0m\u001b[1;33m\u001b[0m\u001b[0m\n\u001b[1;32m----> 2\u001b[1;33m \u001b[0mx\u001b[0m\u001b[1;33m=\u001b[0m\u001b[0mint\u001b[0m\u001b[1;33m(\u001b[0m\u001b[0minput\u001b[0m\u001b[1;33m(\u001b[0m\u001b[1;33m)\u001b[0m\u001b[1;33m)\u001b[0m\u001b[1;33m\u001b[0m\u001b[1;33m\u001b[0m\u001b[0m\n\u001b[0m\u001b[0;32m      3\u001b[0m \u001b[0my\u001b[0m\u001b[1;33m=\u001b[0m\u001b[1;36m0\u001b[0m\u001b[1;33m\u001b[0m\u001b[1;33m\u001b[0m\u001b[0m\n\u001b[0;32m      4\u001b[0m \u001b[0mz\u001b[0m\u001b[1;33m=\u001b[0m\u001b[1;36m0\u001b[0m\u001b[1;33m\u001b[0m\u001b[1;33m\u001b[0m\u001b[0m\n\u001b[0;32m      5\u001b[0m \u001b[1;32mwhile\u001b[0m \u001b[0mx\u001b[0m\u001b[1;33m!=\u001b[0m\u001b[1;36m0\u001b[0m\u001b[1;33m:\u001b[0m\u001b[1;33m\u001b[0m\u001b[1;33m\u001b[0m\u001b[0m\n",
      "\u001b[1;32m~\\AppData\\Local\\Programs\\Python\\Python39\\lib\\site-packages\\ipykernel\\kernelbase.py\u001b[0m in \u001b[0;36mraw_input\u001b[1;34m(self, prompt)\u001b[0m\n\u001b[0;32m   1004\u001b[0m                 \u001b[1;34m\"raw_input was called, but this frontend does not support input requests.\"\u001b[0m\u001b[1;33m\u001b[0m\u001b[1;33m\u001b[0m\u001b[0m\n\u001b[0;32m   1005\u001b[0m             )\n\u001b[1;32m-> 1006\u001b[1;33m         return self._input_request(\n\u001b[0m\u001b[0;32m   1007\u001b[0m             \u001b[0mstr\u001b[0m\u001b[1;33m(\u001b[0m\u001b[0mprompt\u001b[0m\u001b[1;33m)\u001b[0m\u001b[1;33m,\u001b[0m\u001b[1;33m\u001b[0m\u001b[1;33m\u001b[0m\u001b[0m\n\u001b[0;32m   1008\u001b[0m             \u001b[0mself\u001b[0m\u001b[1;33m.\u001b[0m\u001b[0m_parent_ident\u001b[0m\u001b[1;33m[\u001b[0m\u001b[1;34m\"shell\"\u001b[0m\u001b[1;33m]\u001b[0m\u001b[1;33m,\u001b[0m\u001b[1;33m\u001b[0m\u001b[1;33m\u001b[0m\u001b[0m\n",
      "\u001b[1;32m~\\AppData\\Local\\Programs\\Python\\Python39\\lib\\site-packages\\ipykernel\\kernelbase.py\u001b[0m in \u001b[0;36m_input_request\u001b[1;34m(self, prompt, ident, parent, password)\u001b[0m\n\u001b[0;32m   1049\u001b[0m             \u001b[1;32mexcept\u001b[0m \u001b[0mKeyboardInterrupt\u001b[0m\u001b[1;33m:\u001b[0m\u001b[1;33m\u001b[0m\u001b[1;33m\u001b[0m\u001b[0m\n\u001b[0;32m   1050\u001b[0m                 \u001b[1;31m# re-raise KeyboardInterrupt, to truncate traceback\u001b[0m\u001b[1;33m\u001b[0m\u001b[1;33m\u001b[0m\u001b[0m\n\u001b[1;32m-> 1051\u001b[1;33m                 \u001b[1;32mraise\u001b[0m \u001b[0mKeyboardInterrupt\u001b[0m\u001b[1;33m(\u001b[0m\u001b[1;34m\"Interrupted by user\"\u001b[0m\u001b[1;33m)\u001b[0m \u001b[1;32mfrom\u001b[0m \u001b[1;32mNone\u001b[0m\u001b[1;33m\u001b[0m\u001b[1;33m\u001b[0m\u001b[0m\n\u001b[0m\u001b[0;32m   1052\u001b[0m             \u001b[1;32mexcept\u001b[0m \u001b[0mException\u001b[0m\u001b[1;33m:\u001b[0m\u001b[1;33m\u001b[0m\u001b[1;33m\u001b[0m\u001b[0m\n\u001b[0;32m   1053\u001b[0m                 \u001b[0mself\u001b[0m\u001b[1;33m.\u001b[0m\u001b[0mlog\u001b[0m\u001b[1;33m.\u001b[0m\u001b[0mwarning\u001b[0m\u001b[1;33m(\u001b[0m\u001b[1;34m\"Invalid Message:\"\u001b[0m\u001b[1;33m,\u001b[0m \u001b[0mexc_info\u001b[0m\u001b[1;33m=\u001b[0m\u001b[1;32mTrue\u001b[0m\u001b[1;33m)\u001b[0m\u001b[1;33m\u001b[0m\u001b[1;33m\u001b[0m\u001b[0m\n",
      "\u001b[1;31mKeyboardInterrupt\u001b[0m: Interrupted by user"
     ]
    }
   ],
   "source": [
    "print(\"mennykű csapjon beléd\")\n",
    "x=int(input())\n",
    "y=0\n",
    "z=0\n",
    "while x!=0:\n",
    "    y=y+x\n",
    "    x=int(input())\n",
    "    z+=1\n",
    "print(\"Összeg:\")\n",
    "print(y)\n",
    "print(\"Átlag:\")\n",
    "print(y/z)"
   ]
  },
  {
   "cell_type": "code",
   "execution_count": 15,
   "id": "2503f4c3",
   "metadata": {},
   "outputs": [
    {
     "name": "stdout",
     "output_type": "stream",
     "text": [
      "SUZUKI\n",
      "honda\n",
      "['vw', 'SUZUKI', 'opel', 'honda']\n",
      "vw\n",
      "SUZUKI\n",
      "opel\n",
      "honda\n",
      "mercedes\n",
      "['vw', 'SUZUKI', 'opel', 'honda', 'mercedes']\n",
      "['SUZUKI', 'opel', 'honda', 'mercedes']\n",
      "['SUZUKI', 'opel', 'honda']\n",
      "['VW', 'SUZUKI', 'opel', 'honda']\n",
      "['honda', 'opel', 'SUZUKI', 'VW']\n",
      "['SUZUKI', 'VW', 'honda', 'opel']\n"
     ]
    }
   ],
   "source": [
    "autok=[\"vw\", \"SUZUKI\", \"opel\", \"honda\"]\n",
    "print(autok[1])\n",
    "print(autok[3])\n",
    "print(autok)\n",
    "for i in autok:\n",
    "    print(i)\n",
    "autok.append(\"mercedes\")\n",
    "print(autok[4])\n",
    "print(autok)\n",
    "autok.remove(\"vw\")\n",
    "print(autok)\n",
    "autok.pop(3)\n",
    "print(autok)\n",
    "autok.insert(0, \"VW\")\n",
    "print(autok)\n",
    "autok.reverse()\n",
    "print(autok)\n",
    "autok.sort()\n",
    "print(autok)"
   ]
  },
  {
   "cell_type": "code",
   "execution_count": 3,
   "id": "c22c8ff5",
   "metadata": {},
   "outputs": [
    {
     "name": "stdout",
     "output_type": "stream",
     "text": [
      "Adj megy egy számot!5\n",
      "Adj meg egy számot69\n",
      "Adj meg egy számot7\n",
      "Adj meg egy számot0\n",
      "Legkisebb eredmény:\n",
      "0\n",
      "Legnagyobb eredmény:\n",
      "4\n"
     ]
    }
   ],
   "source": [
    "szamok=[int(input(\"Adj megy egy számot!\"))]\n",
    "i=0\n",
    "eredmeny=0\n",
    "while szamok[i]!=0:\n",
    "    eredmeny+=szamok[i]\n",
    "    i+=1\n",
    "    szamok.append(int(input(\"Adj meg egy számot\")))\n",
    "\n",
    "print(\"Legkisebb eredmény:\")\n",
    "print(szamok[0])\n",
    "print(\"Legnagyobb eredmény:\")\n",
    "print(len(szamok))"
   ]
  },
  {
   "cell_type": "code",
   "execution_count": 12,
   "id": "22263e01",
   "metadata": {},
   "outputs": [
    {
     "name": "stdout",
     "output_type": "stream",
     "text": [
      "Adj meg egy számot: 5\n",
      "Adj meg egy számot: 153856\n",
      "Adj meg egy számot: 46879879\n",
      "Adj meg egy számot: 0\n",
      "A legkisebb szám a tömbben: 5\n",
      "A legnagyobb szám a tömbben: 46879879\n"
     ]
    }
   ],
   "source": [
    "szam=int(input(\"Adj meg egy számot: \"))\n",
    "while szam==0:\n",
    "    szam=int(input(\"Adj meg egy számot: \"))\n",
    "szamok=[szam]\n",
    "while szam!=0:\n",
    "    szam=int(input(\"Adj meg egy számot: \"))\n",
    "    szamok.append(szam)\n",
    "szamok.pop()\n",
    "#print(szamok)\n",
    "\n",
    "minimum=szamok[0]\n",
    "for i in range (1,len(szamok)):\n",
    "    if minimum>szamok[i]:\n",
    "        minimum=szamok[i]\n",
    "print(\"A legkisebb szám a tömbben: %d\" %minimum)\n",
    "\n",
    "maximum=szamok[0]\n",
    "for i in range (1,len(szamok)):\n",
    "    if maximum<szamok[i]:\n",
    "        maximum=szamok[i]\n",
    "print(\"A legnagyobb szám a tömbben: %d\" %maximum)"
   ]
  },
  {
   "cell_type": "code",
   "execution_count": null,
   "id": "ecb9e967",
   "metadata": {},
   "outputs": [],
   "source": []
  }
 ],
 "metadata": {
  "kernelspec": {
   "display_name": "Python 3 (ipykernel)",
   "language": "python",
   "name": "python3"
  },
  "language_info": {
   "codemirror_mode": {
    "name": "ipython",
    "version": 3
   },
   "file_extension": ".py",
   "mimetype": "text/x-python",
   "name": "python",
   "nbconvert_exporter": "python",
   "pygments_lexer": "ipython3",
   "version": "3.9.7"
  }
 },
 "nbformat": 4,
 "nbformat_minor": 5
}

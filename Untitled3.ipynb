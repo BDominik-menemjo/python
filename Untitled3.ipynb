{
 "cells": [
  {
   "cell_type": "code",
   "execution_count": 8,
   "id": "0d12b174",
   "metadata": {},
   "outputs": [
    {
     "ename": "SyntaxError",
     "evalue": "invalid syntax (Temp/ipykernel_2548/3815120994.py, line 41)",
     "output_type": "error",
     "traceback": [
      "\u001b[1;36m  File \u001b[1;32m\"C:\\Users\\diak\\AppData\\Local\\Temp/ipykernel_2548/3815120994.py\"\u001b[1;36m, line \u001b[1;32m41\u001b[0m\n\u001b[1;33m    match opcio:\u001b[0m\n\u001b[1;37m          ^\u001b[0m\n\u001b[1;31mSyntaxError\u001b[0m\u001b[1;31m:\u001b[0m invalid syntax\n"
     ]
    }
   ],
   "source": [
    "a=int(input(\"Add meg az első számot!\"))\n",
    "b=int(input(\"Add meg a második számot!\"))\n",
    "\n",
    "print(\"Válassz egyet!\")\n",
    "print(\"1.Összeadás\")\n",
    "print(\"2.Kivonás\")\n",
    "print(\"3.Szorzás\")\n",
    "print(\"4.Osztás\")\n",
    "\n",
    "opcio=int(input(\"Válassz egyet(1/2/3/4): \"))\n",
    "\n",
    "#while opcio==\"1\" or opcio==\"2\" or opcio==\"3\" or opcio==\"4\"\n",
    "'''\n",
    "while opcio<'1' or opcio>'4':\n",
    "'''\n",
    "'''\n",
    "    print(\"Rosz input! Kilép!\")\n",
    "    \n",
    "if opcio input('1', '2', '3','4')):\n",
    "    if opcio =='1':\n",
    "        print(\"A két szám öszege: %d\" %(a+b))\n",
    "    elif opcio =='2':\n",
    "        print(\"A két szám különbsége: %d\" %(a-b))\n",
    "    elif opcio =='3':\n",
    "        print(\"A két szám szorzata: %d\" %(a*b))\n",
    "    else opcio =='4':\n",
    "        print(\"A két szám hányadosa: %f\" %(a/b))\n",
    "'''        \n",
    "        \n",
    "a=int(input(\"Add meg az első számot!\"))\n",
    "b=int(input(\"Add meg a második számot!\"))\n",
    "\n",
    "print(\"Válassz egyet!\")\n",
    "print(\"1.Összeadás\")\n",
    "print(\"2.Kivonás\")\n",
    "print(\"3.Szorzás\")\n",
    "print(\"4.Osztás\")\n",
    "\n",
    "opcio=int(input(\"Válassz egyet(1/2/3/4): \"))\n",
    "\n",
    "match opcio:\n",
    "    case '1':\n",
    "        print(\"A két szám öszege: %d\" %(a+b))\n",
    "    case '2':\n",
    "        print(\"A két szám különbsége: %d\" %(a-b))\n",
    "    case '3':\n",
    "        print(\"A két szám szorzata: %d\" %(a*b))\n",
    "    case'4':\n",
    "        print(\"A két szám hányadosa: %f\" %(a/b))\n",
    "    case _:\n",
    "        print(\"Rosz input! Kilép!\")"
   ]
  },
  {
   "cell_type": "code",
   "execution_count": null,
   "id": "cc53d454",
   "metadata": {},
   "outputs": [],
   "source": []
  }
 ],
 "metadata": {
  "kernelspec": {
   "display_name": "Python 3 (ipykernel)",
   "language": "python",
   "name": "python3"
  },
  "language_info": {
   "codemirror_mode": {
    "name": "ipython",
    "version": 3
   },
   "file_extension": ".py",
   "mimetype": "text/x-python",
   "name": "python",
   "nbconvert_exporter": "python",
   "pygments_lexer": "ipython3",
   "version": "3.9.7"
  }
 },
 "nbformat": 4,
 "nbformat_minor": 5
}

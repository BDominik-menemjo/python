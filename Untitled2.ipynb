{
 "cells": [
  {
   "cell_type": "code",
   "execution_count": 1,
   "id": "bf3a1711",
   "metadata": {},
   "outputs": [
    {
     "name": "stdout",
     "output_type": "stream",
     "text": [
      "****   ****   **** \n",
      "*   *  *   *  *   *\n",
      "****   *   *  **** \n",
      "*   *  *   *  *    \n",
      "****   ****   *    \n"
     ]
    }
   ],
   "source": [
    "letters = {\n",
    "    'A': [' *** ', '*   *', '*****', '*   *', '*   *'],\n",
    "    'B': ['**** ', '*   *', '**** ', '*   *', '**** '],\n",
    "    'C': [' ****', '*    ', '*    ', '*    ', ' ****'],\n",
    "    'D': ['**** ', '*   *', '*   *', '*   *', '**** '],\n",
    "    'E': ['*****', '*    ', '*****', '*    ', '*****'],\n",
    "    'F': ['*****', '*    ', '***  ', '*    ', '*    '],\n",
    "    'G': [' ****', '*    ', '*  **', '*   *', ' ****'],\n",
    "    'H': ['*   *', '*   *', '*****', '*   *', '*   *'],\n",
    "    'I': ['*****', '  *  ', '  *  ', '  *  ', '*****'],\n",
    "    'J': ['*****', '    *', '    *', '*   *', ' *** '],\n",
    "    'K': ['*   *', '*  * ', '**   ', '*  * ', '*   *'],\n",
    "    'L': ['*    ', '*    ', '*    ', '*    ', '*****'],\n",
    "    'M': ['*   *', '** **', '* * *', '*   *', '*   *'],\n",
    "    'N': ['*   *', '**  *', '* * *', '*  **', '*   *'],\n",
    "    'O': [' *** ', '*   *', '*   *', '*   *', ' *** '],\n",
    "    'P': ['**** ', '*   *', '**** ', '*    ', '*    '],\n",
    "    'Q': [' *** ', '*   *', '*   *', '*  **', ' ** *'],\n",
    "    'R': ['**** ', '*   *', '**** ', '*  * ', '*   *'],\n",
    "    'S': [' ****', '*    ', '**** ', '    *', '**** '],\n",
    "    'T': ['*****', '  *  ', '  *  ', '  *  ', '  *  '],\n",
    "    'U': ['*   *', '*   *', '*   *', '*   *', ' *** '],\n",
    "    'V': ['*   *', '*   *', '*   *', ' * * ', '  *  '],\n",
    "    'W': ['*   *', '*   *', '* * *', '** **', '*   *'],\n",
    "    'X': ['*   *', ' * * ', '  *  ', ' * * ', '*   *'],\n",
    "    'Y': ['*   *', ' * * ', '  *  ', '  *  ', '  *  '],\n",
    "    'Z': ['*****', '   * ', '  *  ', ' *   ', '*****'],\n",
    "}\n",
    "\n",
    "string = \"BDP\"\n",
    "\n",
    "#print(len(string))\n",
    "for i in range(5):\n",
    "\n",
    "    for word in range(len(string)):\n",
    "        current_word = string[word].upper()\n",
    "        #print(current_word)\n",
    "        if word == len(string)-1 :\n",
    "            print(letters[current_word][i])\n",
    "        else :\n",
    "            print(letters[current_word][i],end='  ')"
   ]
  },
  {
   "cell_type": "code",
   "execution_count": null,
   "id": "695721e9",
   "metadata": {},
   "outputs": [],
   "source": []
  }
 ],
 "metadata": {
  "kernelspec": {
   "display_name": "Python 3 (ipykernel)",
   "language": "python",
   "name": "python3"
  },
  "language_info": {
   "codemirror_mode": {
    "name": "ipython",
    "version": 3
   },
   "file_extension": ".py",
   "mimetype": "text/x-python",
   "name": "python",
   "nbconvert_exporter": "python",
   "pygments_lexer": "ipython3",
   "version": "3.9.7"
  }
 },
 "nbformat": 4,
 "nbformat_minor": 5
}

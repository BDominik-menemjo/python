{
 "cells": [
  {
   "cell_type": "code",
   "execution_count": 16,
   "id": "d5a5b864",
   "metadata": {},
   "outputs": [
    {
     "name": "stdout",
     "output_type": "stream",
     "text": [
      "[89, 35, 17, 68, 50, 74, 21, 7, 26, 87, 83, 23, 76, 11, 2, 41, 53, 91, 44, 41, 75, 29, 57, 17, 53, 87, 91, 70, 26, 16, 69, 26, 22, 37, 56, 78, 92, 17, 41, 49, 59, 87, 62, 11, 33, 34, 79, 83, 8, 8, 77, 47, 95, 93, 62, 91, 54, 60, 38, 78, 55, 5, 29, 67, 95, 73, 18, 36, 60, 80, 66, 51, 42, 74, 98, 34, 36, 65, 21, 30, 19, 42, 81, 61, 47, 49, 51, 73, 12, 29, 74, 25, 46, 93, 4, 44, 88, 6, 56, 99]\n",
      "\n",
      "A párs számok darabszáma: 44\n",
      "17\n",
      "50\n",
      "7\n",
      "26\n",
      "23\n",
      "2\n",
      "41\n",
      "53\n",
      "41\n",
      "29\n",
      "17\n",
      "53\n",
      "87\n",
      "16\n",
      "22\n",
      "37\n",
      "56\n",
      "78\n",
      "17\n",
      "41\n",
      "49\n",
      "59\n",
      "11\n",
      "33\n",
      "34\n",
      "79\n",
      "8\n",
      "47\n",
      "62\n",
      "54\n",
      "38\n",
      "5\n",
      "29\n",
      "67\n",
      "18\n",
      "36\n",
      "60\n",
      "42\n",
      "74\n",
      "34\n",
      "36\n",
      "21\n",
      "19\n",
      "42\n",
      "47\n",
      "49\n",
      "51\n",
      "12\n",
      "29\n",
      "25\n",
      "46\n",
      "4\n",
      "44\n",
      "6\n",
      "56\n"
     ]
    }
   ],
   "source": [
    "import random\n",
    "tomb=[]\n",
    "par=[]\n",
    "n=0\n",
    "for x in range (100):\n",
    "        tomb.append(random.randint(0,100))\n",
    "for x in tomb:\n",
    "    if x %2==0:\n",
    "        par.append(x)\n",
    "        n+=1\n",
    "print(tomb)\n",
    "print(\"\\nA párs számok darabszáma: %d\"%n)\n",
    "for x in range(0,len(tomb)-1):\n",
    "    if tomb[x]<tomb[x+1]:\n",
    "        print(tomb[x])"
   ]
  },
  {
   "cell_type": "code",
   "execution_count": 27,
   "id": "f162cd68",
   "metadata": {},
   "outputs": [
    {
     "name": "stdout",
     "output_type": "stream",
     "text": [
      "[4, 49, 44, 4, 41, 47, 17, 6, 1, 17, 30, 12, 8, 9, 13, 27, 33, 45, 38, 5, 41, 31, 33, 29, 40, 38, 1, 40, 10, 39, 33, 25, 19, 27, 17, 21, 17, 39, 37, 34, 11, 15, 36, 3, 35, 29, 16, 45, 16, 28, 27, 40, 17, 33, 4, 35, 5, 5, 28, 28, 4, 37, 11, 50, 4, 2, 20, 26, 33, 33, 16, 17, 19, 33, 13, 28, 9, 30, 43, 50, 33, 21, 8, 8, 20, 5, 47, 38, 41, 35, 38, 14, 43, 38, 19, 12, 39, 25, 21, 3]\n"
     ]
    }
   ],
   "source": [
    "import random\n",
    "tomb=[]\n",
    "for i in range(100):\n",
    "    tomb.append(random.randint(-50,50))\n",
    "for i in range(100):\n",
    "    if tomb[i]<0:\n",
    "        tomb[i]=abs(tomb[i])\n",
    "print(tomb)"
   ]
  },
  {
   "cell_type": "code",
   "execution_count": 33,
   "id": "086d0323",
   "metadata": {},
   "outputs": [
    {
     "name": "stdout",
     "output_type": "stream",
     "text": [
      "[-39, -17, -13, 32, -9, -1, -12, 14, 19, 31, -38, -28, 5, 0, 6, -14, -4, -38, -35, -9, 1, 15, 39, 13, -17, -17, 28, 3, 10, 3, 14, 13, 12, -32, -42, 20, -27, -4, 4, -47, 6, -40, 40, 22, -45, -16, 29, -40, -5, 2, -46, -18, 15, -17, 31, 0, -43, 1, 35, 29, -4, 17, 46, 13, -24, 13, 41, -18, 22, -23, -38, 32, 0, -22, 38, 47, -14, -35, -45, -19, 33, 2, 45, -13, -11, 41, 33, 12, 4, -9, -8, 42, -43, -25, -40, -39, -1, -14, -18, 46]\n",
      "-39 -17 -13 -9 -1 -35 -9 -17 -17 -27 -47 -45 -5 -17 -43 -23 -35 -45 -19 -13 -11 -9 -43 -25 -39 -1 "
     ]
    }
   ],
   "source": [
    "import random\n",
    "tomb=[]\n",
    "for i in range(100):\n",
    "    tomb.append(random.randint(-50,50))\n",
    "print(tomb)\n",
    "\n",
    "for i in range(0,len(tomb)):\n",
    "    if tomb[i]<0:\n",
    "        if tomb[i]%2!=0:\n",
    "            print(tomb[i], end=\" \")"
   ]
  },
  {
   "cell_type": "code",
   "execution_count": 5,
   "id": "e4fac216",
   "metadata": {},
   "outputs": [
    {
     "name": "stdout",
     "output_type": "stream",
     "text": [
      "Adj meg egy számot: 4\n",
      "Adj meg egy számot: 4\n",
      "Adma agy uly telot5\n",
      "Adj meg egy számot: 6\n",
      "Adj meg egy számot: 7\n",
      "Adj meg egy számot: 89\n",
      "Adj meg egy számot: 11\n",
      "Adj meg egy számot: 586\n",
      "Adj meg egy számot: 586\n",
      "Adma agy uly telot4\n",
      "Adma agy uly telot4\n",
      "Adma agy uly telot5\n",
      "Adma agy uly telot69\n",
      "Adj meg egy számot: 420\n",
      "Adj meg egy számot: 55\n",
      "[4, 5, 6, 7, 89, 11, 586, 69, 420, 55]\n"
     ]
    }
   ],
   "source": [
    "tomb=[]\n",
    "tomb.append(int(input(\"Adj meg egy számot: \")))\n",
    "for i in range(1,10):\n",
    "    szam=int(input(\"Adj meg egy számot: \"))\n",
    "    while szam in tomb:\n",
    "        szam=int(input(\"Másikat, mertez már volt!\"))\n",
    "    tomb.append(szam)\n",
    "print(tomb)"
   ]
  }
 ],
 "metadata": {
  "kernelspec": {
   "display_name": "Python 3 (ipykernel)",
   "language": "python",
   "name": "python3"
  },
  "language_info": {
   "codemirror_mode": {
    "name": "ipython",
    "version": 3
   },
   "file_extension": ".py",
   "mimetype": "text/x-python",
   "name": "python",
   "nbconvert_exporter": "python",
   "pygments_lexer": "ipython3",
   "version": "3.9.7"
  }
 },
 "nbformat": 4,
 "nbformat_minor": 5
}
